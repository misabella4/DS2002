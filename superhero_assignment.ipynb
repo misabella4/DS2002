{
  "cells": [
    {
      "cell_type": "markdown",
      "metadata": {
        "id": "view-in-github",
        "colab_type": "text"
      },
      "source": [
        "<a href=\"https://colab.research.google.com/github/misabella4/DS2002/blob/main/superhero_assignment.ipynb\" target=\"_parent\"><img src=\"https://colab.research.google.com/assets/colab-badge.svg\" alt=\"Open In Colab\"/></a>"
      ]
    },
    {
      "cell_type": "markdown",
      "id": "5fa8dcf6",
      "metadata": {
        "id": "5fa8dcf6"
      },
      "source": [
        "# Superhero Database Assignment (SQLite & Google Colab)\n",
        "\n",
        "## Objective\n",
        "In this assignment, you will design and implement a **Superhero Database** using SQLite in Google Colab. This database will store superheroes, villains, and their battles. You will write SQL queries to analyze battle outcomes and relationships between heroes and villains.\n",
        "\n",
        "### Group Size:\n",
        "- 2 to 3 students per group.\n",
        "\n",
        "### Tools Required:\n",
        "- **Google Colab**\n",
        "- **SQLite (built into Python)**\n",
        "- **CSV files (provided for import)**"
      ]
    },
    {
      "cell_type": "markdown",
      "id": "5535e625",
      "metadata": {
        "id": "5535e625"
      },
      "source": [
        "## Step 1: Setting Up Your SQLite Database\n",
        "\n",
        "### Tasks:\n",
        "1. Initialize SQLite in Google Colab.\n",
        "2. Create a database named `superhero_db.sqlite`.\n",
        "3. Define the database schema, ensuring it includes the following tables:\n",
        "   - `heroes`: Stores superhero names, powers, and teams.\n",
        "   - `villains`: Stores villains and their evil plans.\n",
        "   - `battles`: Tracks battles between heroes and villains, including the outcome.\n",
        "4. Implement primary keys and foreign keys where appropriate.\n",
        "\n",
        "✅ **Checkpoint:** Ensure that the database and tables have been successfully created."
      ]
    },
    {
      "cell_type": "code",
      "source": [
        "import sqlite3\n",
        "\n",
        "connection = sqlite3.connect('superhero_db.sqlite')\n",
        "print(\"Database created / connected\")\n",
        "\n",
        "cursor = connection.cursor()\n",
        "print(\"Cursor created\")\n",
        "\n",
        "cursor.execute('DROP TABLE IF EXISTS Battles;')\n",
        "cursor.execute('DROP TABLE IF EXISTS Heroes;')\n",
        "cursor.execute('DROP TABLE IF EXISTS Villains;')\n",
        "print(\"Tables dropped (if they existed)\")\n",
        "\n",
        "cursor.execute('''\n",
        "CREATE TABLE IF NOT EXISTS Heroes (\n",
        "    id INTEGER PRIMARY KEY AUTOINCREMENT,\n",
        "    name TEXT NOT NULL,\n",
        "    power TEXT NOT NULL,\n",
        "    team TEXT NOT NULL\n",
        ")\n",
        "''')\n",
        "print(\"Heroes table created\")\n",
        "\n",
        "cursor.execute('''\n",
        "CREATE TABLE IF NOT EXISTS Villains (\n",
        "    id INTEGER PRIMARY KEY AUTOINCREMENT,\n",
        "    name TEXT NOT NULL,\n",
        "    evil_plan TEXT NOT NULL\n",
        ")\n",
        "''')\n",
        "print(\"Villains table created\")\n",
        "\n",
        "cursor.execute('''\n",
        "CREATE TABLE IF NOT EXISTS Battles (\n",
        "    id INTEGER PRIMARY KEY AUTOINCREMENT,\n",
        "    hero_id INTEGER NOT NULL,\n",
        "    villain_id INTEGER NOT NULL,\n",
        "    outcome TEXT NOT NULL,\n",
        "    FOREIGN KEY (hero_id) REFERENCES Heroes(id)\n",
        "    FOREIGN KEY (villain_id) REFERENCES Villains(id)\n",
        ")\n",
        "''')\n",
        "print(\"Battles table created\")"
      ],
      "metadata": {
        "colab": {
          "base_uri": "https://localhost:8080/"
        },
        "id": "TRjnHtqi51bz",
        "outputId": "e3bb5afc-de7f-437a-9871-191e586f9a12"
      },
      "id": "TRjnHtqi51bz",
      "execution_count": 25,
      "outputs": [
        {
          "output_type": "stream",
          "name": "stdout",
          "text": [
            "Database created / connected\n",
            "Cursor created\n",
            "Tables dropped (if they existed)\n",
            "Heroes table created\n",
            "Villains table created\n",
            "Battles table created\n"
          ]
        }
      ]
    },
    {
      "cell_type": "markdown",
      "id": "154b3c3a",
      "metadata": {
        "id": "154b3c3a"
      },
      "source": [
        "## Step 2: Import Data from CSV Files\n",
        "\n",
        "### Tasks:\n",
        "1. Download the provided CSV files.\n",
        "2. Upload them to Google Colab.\n",
        "3. Write a script to import data from these files into the appropriate tables.\n",
        "4. Verify that the data has been successfully inserted.\n",
        "\n",
        "✅ **Checkpoint:** Ensure that each table contains the expected data from the CSV files."
      ]
    },
    {
      "cell_type": "code",
      "source": [
        "import pandas as pd\n",
        "import sqlite3\n",
        "\n",
        "connection = sqlite3.connect('superhero_db.sqlite')\n",
        "cursor = connection.cursor()\n",
        "\n",
        "df_heroes = pd.read_csv('heroes.csv')\n",
        "df_villains = pd.read_csv('villains.csv')\n",
        "df_battles = pd.read_csv('battles.csv')\n",
        "\n",
        "df_heroes.to_sql('Heroes', connection, if_exists='append', index=False)\n",
        "df_villains.to_sql('Villains', connection, if_exists='append', index=False)\n",
        "df_battles.to_sql('Battles', connection, if_exists='append', index=False)\n",
        "print(\"Data successfully inserted into SQL tables\")\n",
        "\n",
        "heroes_df = pd.read_sql_query('SELECT * FROM Heroes', connection)\n",
        "print(heroes_df.head())\n",
        "\n",
        "villains_df = pd.read_sql_query('SELECT * FROM Villains', connection)\n",
        "print(villains_df.head())\n",
        "\n",
        "battles_df = pd.read_sql_query('SELECT * FROM Battles', connection)\n",
        "print(battles_df.head())"
      ],
      "metadata": {
        "colab": {
          "base_uri": "https://localhost:8080/"
        },
        "id": "xFfH0BX49k9y",
        "outputId": "e72c3866-8034-4fc5-d8d0-489f2e9a28fc"
      },
      "id": "xFfH0BX49k9y",
      "execution_count": 26,
      "outputs": [
        {
          "output_type": "stream",
          "name": "stdout",
          "text": [
            "Data successfully inserted into SQL tables\n",
            "   id        name             power            team\n",
            "0   1  Spider-Man      Web-slinging        Avengers\n",
            "1   2    Iron Man     Powered Armor        Avengers\n",
            "2   3      Batman  Genius Detective  Justice League\n",
            "3   4    Superman    Super Strength  Justice League\n",
            "4   5        Thor    God of Thunder        Avengers\n",
            "   id          name                           evil_plan\n",
            "0   1  Green Goblin                  Terrorize New York\n",
            "1   2        Thanos         Collect all Infinity Stones\n",
            "2   3         Joker              Spread chaos in Gotham\n",
            "3   4    Lex Luthor                     Defeat Superman\n",
            "4   5          Loki  Trick humanity into worshiping him\n",
            "   id  hero_id  villain_id       outcome\n",
            "0   1        1          10  Villain Wins\n",
            "1   2        9           3     Hero Wins\n",
            "2   3        8           1          Draw\n",
            "3   4        5           4  Villain Wins\n",
            "4   5        1           7     Hero Wins\n"
          ]
        }
      ]
    },
    {
      "cell_type": "markdown",
      "id": "33548d9f",
      "metadata": {
        "id": "33548d9f"
      },
      "source": [
        "## Step 3: Querying the Database\n",
        "\n",
        "### Tasks:\n",
        "Write SQL queries to answer the following:\n",
        "1. Retrieve all superheroes and their powers.\n",
        "2. Find all battles where the hero won.\n",
        "3. List all villains and their evil plans.\n",
        "4. Determine which superhero has fought the most battles.\n",
        "\n",
        "✅ **Checkpoint:** Ensure that all queries return meaningful results from the database."
      ]
    },
    {
      "cell_type": "code",
      "source": [
        "# Query 1 - Retrieve all superheroes and their powers\n",
        "cursor.execute(\"SELECT name, power FROM heroes\")\n",
        "rows = cursor.fetchall()\n",
        "\n",
        "print(\"All superheroes and their powers:\")\n",
        "for row in rows:\n",
        "    print(row)\n",
        "\n",
        "# Query 2 - Find all battles where the hero won\n",
        "cursor.execute('''\n",
        "    SELECT * FROM battles\n",
        "    JOIN heroes ON battles.hero_id = heroes.id\n",
        "    WHERE battles.outcome = \"Hero Wins\"\n",
        "''')\n",
        "winner = cursor.fetchall()\n",
        "\n",
        "print(\"\\nAll battles where hero won:\")\n",
        "for row in winner:\n",
        "    print(row)\n",
        "\n",
        "# Query 3 - List all villains and their evil plans\n",
        "cursor.execute(\"SELECT * FROM villains\")\n",
        "rows = cursor.fetchall()\n",
        "\n",
        "print(\"\\nAll villains and their evil plans:\")\n",
        "for row in rows:\n",
        "    print(row)\n",
        "\n",
        "# Query to determine which superhero has fought the most battles\n",
        "cursor.execute('''\n",
        "    SELECT name, COUNT(Battles.id) AS count FROM Heroes\n",
        "    JOIN Battles ON Heroes.id = Battles.hero_id\n",
        "    GROUP BY Heroes.id\n",
        "    ORDER BY count DESC;\n",
        "''')\n",
        "all_battles = cursor.fetchall()\n",
        "\n",
        "most_battles = all_battles[0]\n",
        "print(f\"\\nSuperhero with the most battles: {most_battles[0]}\")"
      ],
      "metadata": {
        "colab": {
          "base_uri": "https://localhost:8080/"
        },
        "id": "dBsp4tA8AXLY",
        "outputId": "65131dcb-56af-4157-b164-15f18cd888f1"
      },
      "id": "dBsp4tA8AXLY",
      "execution_count": 27,
      "outputs": [
        {
          "output_type": "stream",
          "name": "stdout",
          "text": [
            "All superheroes and their powers:\n",
            "('Spider-Man', 'Web-slinging')\n",
            "('Iron Man', 'Powered Armor')\n",
            "('Batman', 'Genius Detective')\n",
            "('Superman', 'Super Strength')\n",
            "('Thor', 'God of Thunder')\n",
            "('Wonder Woman', 'Amazonian Strength')\n",
            "('Black Panther', 'Enhanced Agility')\n",
            "('The Flash', 'Super Speed')\n",
            "('Hulk', 'Super Strength')\n",
            "('Doctor Strange', 'Mystic Arts')\n",
            "\n",
            "All battles where hero won:\n",
            "(2, 9, 3, 'Hero Wins', 9, 'Hulk', 'Super Strength', 'Avengers')\n",
            "(5, 1, 7, 'Hero Wins', 1, 'Spider-Man', 'Web-slinging', 'Avengers')\n",
            "(7, 9, 8, 'Hero Wins', 9, 'Hulk', 'Super Strength', 'Avengers')\n",
            "(8, 3, 2, 'Hero Wins', 3, 'Batman', 'Genius Detective', 'Justice League')\n",
            "(9, 7, 5, 'Hero Wins', 7, 'Black Panther', 'Enhanced Agility', 'Avengers')\n",
            "(13, 8, 9, 'Hero Wins', 8, 'The Flash', 'Super Speed', 'Justice League')\n",
            "(20, 3, 4, 'Hero Wins', 3, 'Batman', 'Genius Detective', 'Justice League')\n",
            "(29, 3, 5, 'Hero Wins', 3, 'Batman', 'Genius Detective', 'Justice League')\n",
            "(30, 5, 5, 'Hero Wins', 5, 'Thor', 'God of Thunder', 'Avengers')\n",
            "\n",
            "All villains and their evil plans:\n",
            "(1, 'Green Goblin', 'Terrorize New York')\n",
            "(2, 'Thanos', 'Collect all Infinity Stones')\n",
            "(3, 'Joker', 'Spread chaos in Gotham')\n",
            "(4, 'Lex Luthor', 'Defeat Superman')\n",
            "(5, 'Loki', 'Trick humanity into worshiping him')\n",
            "(6, 'Ultron', 'AI world domination')\n",
            "(7, 'Darkseid', 'Control the universe')\n",
            "(8, 'Venom', 'Consume Spider-Man')\n",
            "(9, 'Magneto', 'Mutant supremacy')\n",
            "(10, 'Red Skull', 'Revive Hydra')\n",
            "\n",
            "Superhero with the most battles: Batman\n"
          ]
        }
      ]
    },
    {
      "cell_type": "markdown",
      "id": "de8bda94",
      "metadata": {
        "id": "de8bda94"
      },
      "source": [
        "## Step 4: Add a Custom Feature\n",
        "\n",
        "### Tasks:\n",
        "1. Design and implement an additional table related to superheroes or villains.\n",
        "2. Populate it with data.\n",
        "3. Write at least one query to retrieve meaningful insights from the new table.\n",
        "\n",
        "**Examples of Custom Features:**\n",
        "- Sidekicks for superheroes\n",
        "- Villain hideouts\n",
        "- Battle locations\n",
        "- Superhero equipment\n",
        "\n",
        "✅ **Checkpoint:** Ensure that the new table and queries function correctly."
      ]
    },
    {
      "cell_type": "code",
      "source": [
        "import sqlite3\n",
        "\n",
        "connection = sqlite3.connect('superhero_db.sqlite')\n",
        "print(\"Database created / connected\")\n",
        "\n",
        "cursor = connection.cursor()\n",
        "\n",
        "cursor.execute('DROP TABLE IF EXISTS Sidekicks;')\n",
        "cursor.execute('''\n",
        "CREATE TABLE IF NOT EXISTS Sidekicks (\n",
        "    id INTEGER PRIMARY KEY AUTOINCREMENT,\n",
        "    name TEXT NOT NULL,\n",
        "    hero_id INTEGER NOT NULL,\n",
        "    power TEXT NOT NULL,\n",
        "    FOREIGN KEY (hero_id) REFERENCES Heroes(id)\n",
        ")\n",
        "''')\n",
        "print(\"Sidekicks table created\")\n",
        "\n",
        "sidekicks_data = [\n",
        "    (\"Ned\", 1, \"Sorcery\"),\n",
        "    (\"J.A.R.V.I.S.\", 2, \"Artificial Intelligence\"),\n",
        "    (\"Robin\", 3, \"Physical Strength\"),\n",
        "    (\"Boy Thunder\", 4, \"Energy\"),\n",
        "    (\"Thori the Dog\", 5, \"Hellfire\"),\n",
        "    (\"Donna Troy\", 6, \"Voice Manipulation\"),\n",
        "    (\"Okoye\", 7, \"Martial Arts\"),\n",
        "    (\"Kid Flash\", 8, \"Speed and Telepathy\"),\n",
        "    (\"Titan\", 9, \"Absorbing Energy\"),\n",
        "    (\"Wong\", 10, \"Martial Arts and Sorcery\")\n",
        "]\n",
        "print(\"Sidekicks data created\")\n",
        "\n",
        "cursor.executemany('''\n",
        "INSERT INTO Sidekicks (name, hero_id, power) VALUES (?, ?, ?)\n",
        "''', sidekicks_data)\n",
        "print(\"Sidekicks data inserted\")\n",
        "\n",
        "connection.commit()\n",
        "\n",
        "# Query - Retrieve all sidekicks and their powers\n",
        "cursor.execute(\"SELECT name, power FROM Sidekicks\")\n",
        "rows = cursor.fetchall()\n",
        "\n",
        "print(\"All sidekicks and their powers:\")\n",
        "for row in rows:\n",
        "    print(row)\n",
        "\n",
        "connection.close()"
      ],
      "metadata": {
        "colab": {
          "base_uri": "https://localhost:8080/"
        },
        "id": "vebd7gZ5lmOX",
        "outputId": "7eb46a15-7d7f-45e4-9aa5-f9d34f0ff9b7"
      },
      "id": "vebd7gZ5lmOX",
      "execution_count": 32,
      "outputs": [
        {
          "output_type": "stream",
          "name": "stdout",
          "text": [
            "Database created / connected\n",
            "Sidekicks table created\n",
            "Sidekicks data created\n",
            "Sidekicks data inserted\n",
            "All sidekicks and their powers:\n",
            "('Ned', 'Sorcery')\n",
            "('J.A.R.V.I.S.', 'Artificial Intelligence')\n",
            "('Robin', 'Physical Strength')\n",
            "('Boy Thunder', 'Energy')\n",
            "('Thori the Dog', 'Hellfire')\n",
            "('Donna Troy', 'Voice Manipulation')\n",
            "('Okoye', 'Martial Arts')\n",
            "('Kid Flash', 'Speed and Telepathy')\n",
            "('Titan', 'Absorbing Energy')\n",
            "('Wong', 'Martial Arts and Sorcery')\n"
          ]
        }
      ]
    },
    {
      "cell_type": "markdown",
      "id": "9bf43fe6",
      "metadata": {
        "id": "9bf43fe6"
      },
      "source": [
        "## Bonus Challenge (+5 Points)\n",
        "\n",
        "### Tasks:\n",
        "1. Enhance your project by adding a visual or interactive component.\n",
        "\n",
        "**Options:**\n",
        "- Visualize battles using Matplotlib (e.g., a bar chart showing how many battles each superhero has fought).\n",
        "- Make it interactive (e.g., allow users to input a superhero name and display their battles).\n",
        "\n",
        "✅ **Checkpoint:** If attempting the bonus, ensure that your visualization or interactive component works correctly."
      ]
    },
    {
      "cell_type": "code",
      "source": [
        "import sqlite3\n",
        "import matplotlib.pyplot as plt\n",
        "import pandas as pd\n",
        "\n",
        "connection = sqlite3.connect('superhero_db.sqlite')\n",
        "print(\"Database connected\")\n",
        "\n",
        "cursor = connection.cursor()\n",
        "\n",
        "cursor.execute('''\n",
        "SELECT Heroes.name, COUNT(Battles.hero_id) AS total_battles FROM Battles\n",
        "JOIN Heroes ON Battles.hero_id = Heroes.id\n",
        "GROUP BY Heroes.name\n",
        "''')\n",
        "battles_data = cursor.fetchall()\n",
        "\n",
        "df = pd.DataFrame(battles_data, columns=[\"Hero\", \"Number of Battles\"])\n",
        "df.head()\n",
        "\n",
        "plt.figure(figsize=(10,6))\n",
        "plt.bar(df['Hero'], df['Number of Battles'], color='lightgreen')\n",
        "plt.xlabel('Superhero')\n",
        "plt.ylabel('Total Battles')\n",
        "plt.title('Battles Each Superhero Has Fought')\n",
        "plt.xticks(rotation=45, ha='right')  # Used AI to figure out how to restructure x-axis labels\n",
        "plt.show()"
      ],
      "metadata": {
        "colab": {
          "base_uri": "https://localhost:8080/",
          "height": 656
        },
        "id": "KtO26r3nqv4T",
        "outputId": "a423ab75-003a-4cce-b1da-b920014e872f"
      },
      "id": "KtO26r3nqv4T",
      "execution_count": 40,
      "outputs": [
        {
          "output_type": "stream",
          "name": "stdout",
          "text": [
            "Database connected\n"
          ]
        },
        {
          "output_type": "display_data",
          "data": {
            "text/plain": [
              "<Figure size 1000x600 with 1 Axes>"
            ],
            "image/png": "[encoded data removed]"
          },
          "metadata": {}
        }
      ]
    },
    {
      "cell_type": "markdown",
      "id": "89f56c05",
      "metadata": {
        "id": "89f56c05"
      },
      "source": [
        "## Submission Guidelines\n",
        "\n",
        "Each group must submit a **Google Colab Notebook (.ipynb)** containing:\n",
        "- ✅ **Database schema (DDL)**\n",
        "- ✅ **CSV imports & data insertion (DML)**\n",
        "- ✅ **SQL queries & results**\n",
        "- ✅ **Custom feature (bonus if applicable)**"
      ]
    },
    {
      "cell_type": "markdown",
      "id": "61477c9b",
      "metadata": {
        "id": "61477c9b"
      },
      "source": [
        "## Grading Criteria (Total: 25 Points)\n",
        "\n",
        "| Section                 | Points |\n",
        "|-------------------------|--------|\n",
        "| Database Setup          | 5      |\n",
        "| Data Importing         | 10     |\n",
        "| Querying the Data      | 10     |\n",
        "| Extra Feature          | 5      |\n",
        "| Bonus Challenge (Optional) | +5  |"
      ]
    },
    {
      "cell_type": "markdown",
      "id": "92bf6839",
      "metadata": {
        "id": "92bf6839"
      },
      "source": [
        "### Final Notes:\n",
        "- Be **creative** when designing superheroes and villains.\n",
        "- **Comment your code** to explain its functionality.\n",
        "- **Have fun** building your superhero universe!"
      ]
    }
  ],
  "metadata": {
    "colab": {
      "provenance": [],
      "include_colab_link": true
    },
    "language_info": {
      "name": "python"
    },
    "kernelspec": {
      "name": "python3",
      "display_name": "Python 3"
    }
  },
  "nbformat": 4,
  "nbformat_minor": 5
}