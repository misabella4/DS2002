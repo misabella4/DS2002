{
  "cells": [
    {
      "cell_type": "markdown",
      "metadata": {
        "id": "view-in-github",
        "colab_type": "text"
      },
      "source": [
        "<a href=\"https://colab.research.google.com/github/misabella4/DS2002/blob/main/python%5Csql_lite.ipynb\" target=\"_parent\"><img src=\"https://colab.research.google.com/assets/colab-badge.svg\" alt=\"Open In Colab\"/></a>"
      ]
    },
    {
      "cell_type": "markdown",
      "metadata": {
        "id": "intro"
      },
      "source": [
        "# SQLite Tutorial for SQL and SQLite\n",
        "\n",
        "In this notebook, we will build a simple school database using SQLite. We'll:\n",
        "\n",
        "1. Create a database schema with three tables: **Students**, **Courses**, and **Enrollments**.\n",
        "2. Insert sample data: 20 students and 5 courses.\n",
        "3. Enroll some students in courses such that some students are not enrolled in any course and some courses have no enrollments.\n",
        "4. Run sample queries to explore the data.\n",
        "\n",
        "Let's get started!"
      ]
    },
    {
      "cell_type": "markdown",
      "metadata": {
        "id": "schema"
      },
      "source": [
        "## Step 1: Create the Database Schema\n",
        "\n",
        "Below is the DDL (Data Definition Language) we will use. (Note that some MySQL-specific commands have been removed or modified since SQLite does not support them.)\n",
        "\n",
        "```sql\n",
        "-- Drop tables if they exist (in reverse order to avoid FK issues)\n",
        "DROP TABLE IF EXISTS Enrollments;\n",
        "DROP TABLE IF EXISTS Courses;\n",
        "DROP TABLE IF EXISTS Students;\n",
        "\n",
        "-- Create Students table\n",
        "CREATE TABLE Students (\n",
        "    StudentID INTEGER PRIMARY KEY AUTOINCREMENT,\n",
        "    FirstName VARCHAR(50) NOT NULL,\n",
        "    LastName VARCHAR(50) NOT NULL,\n",
        "    DateOfBirth DATE,\n",
        "    Email VARCHAR(100) UNIQUE,\n",
        "    EnrollmentDate DATE DEFAULT (date('now'))\n",
        ");\n",
        "\n",
        "-- Create Courses table\n",
        "CREATE TABLE Courses (\n",
        "    CourseID INTEGER PRIMARY KEY AUTOINCREMENT,\n",
        "    CourseName VARCHAR(100) NOT NULL,\n",
        "    Credits INT CHECK (Credits > 0),\n",
        "    Instructor VARCHAR(100)\n",
        ");\n",
        "\n",
        "-- Create Enrollments table\n",
        "CREATE TABLE Enrollments (\n",
        "    EnrollmentID INTEGER PRIMARY KEY AUTOINCREMENT,\n",
        "    StudentID INT,\n",
        "    CourseID INT,\n",
        "    EnrollmentDate DATE DEFAULT (date('now')),\n",
        "    Grade CHAR(1) CHECK (Grade IN ('A', 'B', 'C', 'D', 'F'))\n",
        ");\n",
        "```"
      ]
    },
    {
      "cell_type": "code",
      "execution_count": 2,
      "metadata": {
        "colab": {
          "base_uri": "https://localhost:8080/"
        },
        "id": "create-tables",
        "outputId": "26f8c924-1c6c-49aa-ac81-b8452eea5d80"
      },
      "outputs": [
        {
          "output_type": "stream",
          "name": "stdout",
          "text": [
            "Database schema created successfully.\n"
          ]
        }
      ],
      "source": [
        "import sqlite3\n",
        "\n",
        "# Connect to an in-memory SQLite database\n",
        "conn = sqlite3.connect(':memory:')\n",
        "cursor = conn.cursor()\n",
        "\n",
        "# DDL statements (using SQLite syntax)\n",
        "ddl_statements = '''\n",
        "DROP TABLE IF EXISTS Enrollments;\n",
        "DROP TABLE IF EXISTS Courses;\n",
        "DROP TABLE IF EXISTS Students;\n",
        "\n",
        "CREATE TABLE Students (\n",
        "    StudentID INTEGER PRIMARY KEY AUTOINCREMENT,\n",
        "    FirstName VARCHAR(50) NOT NULL,\n",
        "    LastName VARCHAR(50) NOT NULL,\n",
        "    DateOfBirth DATE,\n",
        "    Email VARCHAR(100) UNIQUE,\n",
        "    EnrollmentDate DATE DEFAULT (date('now'))\n",
        ");\n",
        "\n",
        "CREATE TABLE Courses (\n",
        "    CourseID INTEGER PRIMARY KEY AUTOINCREMENT,\n",
        "    CourseName VARCHAR(100) NOT NULL,\n",
        "    Credits INT CHECK (Credits > 0),\n",
        "    Instructor VARCHAR(100)\n",
        ");\n",
        "\n",
        "CREATE TABLE Enrollments (\n",
        "    EnrollmentID INTEGER PRIMARY KEY AUTOINCREMENT,\n",
        "    StudentID INT,\n",
        "    CourseID INT,\n",
        "    EnrollmentDate DATE DEFAULT (date('now')),\n",
        "    Grade CHAR(1) CHECK (Grade IN ('A', 'B', 'C', 'D', 'F'))\n",
        ");\n",
        "'''\n",
        "\n",
        "# Execute the DDL script\n",
        "cursor.executescript(ddl_statements)\n",
        "conn.commit()\n",
        "print('Database schema created successfully.')"
      ]
    },
    {
      "cell_type": "markdown",
      "metadata": {
        "id": "insert-students"
      },
      "source": [
        "## Step 2: Insert Data into the Students Table\n",
        "\n",
        "We'll insert 20 students with sample names, birth dates, and emails."
      ]
    },
    {
      "cell_type": "code",
      "execution_count": 3,
      "metadata": {
        "colab": {
          "base_uri": "https://localhost:8080/"
        },
        "id": "students-data",
        "outputId": "4be8698e-3ce6-4e09-fd7d-862f10f9cfa1"
      },
      "outputs": [
        {
          "output_type": "stream",
          "name": "stdout",
          "text": [
            "Inserted 20 students into the Students table.\n"
          ]
        }
      ],
      "source": [
        "# Sample data for 20 students (FirstName, LastName, DateOfBirth, Email)\n",
        "students = [\n",
        "    ('Alice', 'Smith', '2000-01-15', 'alice.smith@example.com'),\n",
        "    ('Bob', 'Johnson', '1999-03-22', 'bob.johnson@example.com'),\n",
        "    ('Charlie', 'Williams', '2001-07-08', 'charlie.williams@example.com'),\n",
        "    ('Diana', 'Brown', '2000-11-30', 'diana.brown@example.com'),\n",
        "    ('Ethan', 'Jones', '1998-05-12', 'ethan.jones@example.com'),\n",
        "    ('Fiona', 'Garcia', '2002-02-20', 'fiona.garcia@example.com'),\n",
        "    ('George', 'Miller', '1999-12-05', 'george.miller@example.com'),\n",
        "    ('Hannah', 'Davis', '2001-09-17', 'hannah.davis@example.com'),\n",
        "    ('Ian', 'Rodriguez', '2000-06-23', 'ian.rodriguez@example.com'),\n",
        "    ('Julia', 'Martinez', '1998-08-14', 'julia.martinez@example.com'),\n",
        "    ('Kevin', 'Hernandez', '2000-04-10', 'kevin.hernandez@example.com'),\n",
        "    ('Laura', 'Lopez', '2001-01-27', 'laura.lopez@example.com'),\n",
        "    ('Michael', 'Gonzalez', '1999-10-03', 'michael.gonzalez@example.com'),\n",
        "    ('Nina', 'Wilson', '2002-07-19', 'nina.wilson@example.com'),\n",
        "    ('Oscar', 'Anderson', '2000-03-11', 'oscar.anderson@example.com'),\n",
        "    ('Paula', 'Thomas', '1998-11-25', 'paula.thomas@example.com'),\n",
        "    ('Quinn', 'Taylor', '2001-05-06', 'quinn.taylor@example.com'),\n",
        "    ('Rachel', 'Moore', '1999-09-09', 'rachel.moore@example.com'),\n",
        "    ('Steve', 'Jackson', '2000-12-12', 'steve.jackson@example.com'),\n",
        "    ('Tina', 'Martin', '2001-02-28', 'tina.martin@example.com')\n",
        "]\n",
        "\n",
        "# Insert students into the Students table\n",
        "cursor.executemany('''\n",
        "    INSERT INTO Students (FirstName, LastName, DateOfBirth, Email)\n",
        "    VALUES (?, ?, ?, ?)\n",
        "''', students)\n",
        "\n",
        "conn.commit()\n",
        "print('Inserted 20 students into the Students table.')"
      ]
    },
    {
      "cell_type": "markdown",
      "metadata": {
        "id": "insert-courses"
      },
      "source": [
        "## Step 3: Insert Data into the Courses Table\n",
        "\n",
        "Now, let's insert 5 courses with sample names, credits, and instructors."
      ]
    },
    {
      "cell_type": "code",
      "execution_count": 4,
      "metadata": {
        "colab": {
          "base_uri": "https://localhost:8080/"
        },
        "id": "courses-data",
        "outputId": "c4cd42f2-e419-41fe-fc84-e5da8a28d7e6"
      },
      "outputs": [
        {
          "output_type": "stream",
          "name": "stdout",
          "text": [
            "Inserted 5 courses into the Courses table.\n"
          ]
        }
      ],
      "source": [
        "# Sample data for 5 courses (CourseName, Credits, Instructor)\n",
        "courses = [\n",
        "    ('Mathematics', 4, 'Dr. Euler'),\n",
        "    ('Physics', 3, 'Dr. Newton'),\n",
        "    ('Chemistry', 4, 'Dr. Curie'),\n",
        "    ('Literature', 2, 'Prof. Shakespeare'),\n",
        "    ('Art', 2, 'Prof. Da Vinci')\n",
        "]\n",
        "\n",
        "# Insert courses into the Courses table\n",
        "cursor.executemany('''\n",
        "    INSERT INTO Courses (CourseName, Credits, Instructor)\n",
        "    VALUES (?, ?, ?)\n",
        "''', courses)\n",
        "\n",
        "conn.commit()\n",
        "print('Inserted 5 courses into the Courses table.')"
      ]
    },
    {
      "cell_type": "markdown",
      "metadata": {
        "id": "insert-enrollments"
      },
      "source": [
        "## Step 4: Insert Data into the Enrollments Table\n",
        "\n",
        "We'll enroll some students in courses. In our design:\n",
        "\n",
        "- **Enrollments:**\n",
        "  - Enroll students with IDs 1–5 in course 1,\n",
        "  - Students with IDs 6–9 in course 2,\n",
        "  - Students with IDs 10–11 in course 4.\n",
        "\n",
        "This ensures that:\n",
        "  - Courses 3 and 5 have no enrollments, and\n",
        "  - Many students are not enrolled in any course."
      ]
    },
    {
      "cell_type": "code",
      "execution_count": 5,
      "metadata": {
        "colab": {
          "base_uri": "https://localhost:8080/"
        },
        "id": "enrollments-data",
        "outputId": "40538d9a-2462-4148-d4ed-07bd3d4948e6"
      },
      "outputs": [
        {
          "output_type": "stream",
          "name": "stdout",
          "text": [
            "Inserted sample enrollments into the Enrollments table.\n"
          ]
        }
      ],
      "source": [
        "# Sample enrollments: (StudentID, CourseID, EnrollmentDate, Grade)\n",
        "enrollments = [\n",
        "    (1, 1, '2023-09-01', 'A'),\n",
        "    (2, 1, '2023-09-01', 'B'),\n",
        "    (3, 1, '2023-09-01', 'A'),\n",
        "    (4, 1, '2023-09-01', 'C'),\n",
        "    (5, 1, '2023-09-01', 'B'),\n",
        "    (6, 2, '2023-09-02', 'A'),\n",
        "    (7, 2, '2023-09-02', 'B'),\n",
        "    (8, 2, '2023-09-02', 'A'),\n",
        "    (9, 2, '2023-09-02', 'C'),\n",
        "    (10, 4, '2023-09-03', 'B'),\n",
        "    (11, 4, '2023-09-03', 'A')\n",
        "]\n",
        "\n",
        "cursor.executemany('''\n",
        "    INSERT INTO Enrollments (StudentID, CourseID, EnrollmentDate, Grade)\n",
        "    VALUES (?, ?, ?, ?)\n",
        "''', enrollments)\n",
        "\n",
        "conn.commit()\n",
        "print('Inserted sample enrollments into the Enrollments table.')"
      ]
    },
    {
      "cell_type": "markdown",
      "metadata": {
        "id": "query-data"
      },
      "source": [
        "## Step 5: Querying the Database\n",
        "\n",
        "Let's run some queries to explore our data.\n",
        "\n",
        "1. **List all students, courses, and enrollments.**\n",
        "2. **Find students not enrolled in any course.**\n",
        "3. **Find courses with no enrollments.**"
      ]
    },
    {
      "cell_type": "code",
      "execution_count": 19,
      "metadata": {
        "colab": {
          "base_uri": "https://localhost:8080/"
        },
        "id": "query-examples",
        "outputId": "40023b30-53d3-42ee-a41d-15c3c33bb860"
      },
      "outputs": [
        {
          "output_type": "stream",
          "name": "stdout",
          "text": [
            "Students enrolled in 2023:\n",
            "(1, 'Alice', 'Smith', '2000-01-15', 'alice.smith@example.com', '2025-02-03', 1, 1, 1, '2023-09-01', 'A')\n",
            "(2, 'Bob', 'Johnson', '1999-03-22', 'bob.johnson@example.com', '2025-02-03', 2, 2, 1, '2023-09-01', 'B')\n",
            "(3, 'Charlie', 'Williams', '2001-07-08', 'charlie.williams@example.com', '2025-02-03', 3, 3, 1, '2023-09-01', 'A')\n",
            "(4, 'Diana', 'Brown', '2000-11-30', 'diana.brown@example.com', '2025-02-03', 4, 4, 1, '2023-09-01', 'C')\n",
            "(5, 'Ethan', 'Jones', '1998-05-12', 'ethan.jones@example.com', '2025-02-03', 5, 5, 1, '2023-09-01', 'B')\n",
            "(6, 'Fiona', 'Garcia', '2002-02-20', 'fiona.garcia@example.com', '2025-02-03', 6, 6, 2, '2023-09-02', 'A')\n",
            "(7, 'George', 'Miller', '1999-12-05', 'george.miller@example.com', '2025-02-03', 7, 7, 2, '2023-09-02', 'B')\n",
            "(8, 'Hannah', 'Davis', '2001-09-17', 'hannah.davis@example.com', '2025-02-03', 8, 8, 2, '2023-09-02', 'A')\n",
            "(9, 'Ian', 'Rodriguez', '2000-06-23', 'ian.rodriguez@example.com', '2025-02-03', 9, 9, 2, '2023-09-02', 'C')\n",
            "(10, 'Julia', 'Martinez', '1998-08-14', 'julia.martinez@example.com', '2025-02-03', 10, 10, 4, '2023-09-03', 'B')\n",
            "(11, 'Kevin', 'Hernandez', '2000-04-10', 'kevin.hernandez@example.com', '2025-02-03', 11, 11, 4, '2023-09-03', 'A')\n",
            "\n",
            "Students with gmail.com emails:\n",
            "\n",
            "All Students:\n",
            "(1, 'Alice', 'Smith', '2000-01-15', 'alice.smith@example.com', '2025-02-03')\n",
            "(2, 'Bob', 'Johnson', '1999-03-22', 'bob.johnson@example.com', '2025-02-03')\n",
            "(3, 'Charlie', 'Williams', '2001-07-08', 'charlie.williams@example.com', '2025-02-03')\n",
            "(4, 'Diana', 'Brown', '2000-11-30', 'diana.brown@example.com', '2025-02-03')\n",
            "(5, 'Ethan', 'Jones', '1998-05-12', 'ethan.jones@example.com', '2025-02-03')\n",
            "(6, 'Fiona', 'Garcia', '2002-02-20', 'fiona.garcia@example.com', '2025-02-03')\n",
            "(7, 'George', 'Miller', '1999-12-05', 'george.miller@example.com', '2025-02-03')\n",
            "(8, 'Hannah', 'Davis', '2001-09-17', 'hannah.davis@example.com', '2025-02-03')\n",
            "(9, 'Ian', 'Rodriguez', '2000-06-23', 'ian.rodriguez@example.com', '2025-02-03')\n",
            "(10, 'Julia', 'Martinez', '1998-08-14', 'julia.martinez@example.com', '2025-02-03')\n",
            "(11, 'Kevin', 'Hernandez', '2000-04-10', 'kevin.hernandez@example.com', '2025-02-03')\n",
            "(12, 'Laura', 'Lopez', '2001-01-27', 'laura.lopez@example.com', '2025-02-03')\n",
            "(13, 'Michael', 'Gonzalez', '1999-10-03', 'michael.gonzalez@example.com', '2025-02-03')\n",
            "(14, 'Nina', 'Wilson', '2002-07-19', 'nina.wilson@example.com', '2025-02-03')\n",
            "(15, 'Oscar', 'Anderson', '2000-03-11', 'oscar.anderson@example.com', '2025-02-03')\n",
            "(16, 'Paula', 'Thomas', '1998-11-25', 'paula.thomas@example.com', '2025-02-03')\n",
            "(17, 'Quinn', 'Taylor', '2001-05-06', 'quinn.taylor@example.com', '2025-02-03')\n",
            "(18, 'Rachel', 'Moore', '1999-09-09', 'rachel.moore@example.com', '2025-02-03')\n",
            "(19, 'Steve', 'Jackson', '2000-12-12', 'steve.jackson@example.com', '2025-02-03')\n",
            "(20, 'Tina', 'Martin', '2001-02-28', 'tina.martin@example.com', '2025-02-03')\n",
            "\n",
            "Students born between 2000 and 2005:\n",
            "(1, 'Alice', 'Smith', '2000-01-15', 'alice.smith@example.com', '2025-02-03')\n",
            "(3, 'Charlie', 'Williams', '2001-07-08', 'charlie.williams@example.com', '2025-02-03')\n",
            "(4, 'Diana', 'Brown', '2000-11-30', 'diana.brown@example.com', '2025-02-03')\n",
            "(6, 'Fiona', 'Garcia', '2002-02-20', 'fiona.garcia@example.com', '2025-02-03')\n",
            "(8, 'Hannah', 'Davis', '2001-09-17', 'hannah.davis@example.com', '2025-02-03')\n",
            "(9, 'Ian', 'Rodriguez', '2000-06-23', 'ian.rodriguez@example.com', '2025-02-03')\n",
            "(11, 'Kevin', 'Hernandez', '2000-04-10', 'kevin.hernandez@example.com', '2025-02-03')\n",
            "(12, 'Laura', 'Lopez', '2001-01-27', 'laura.lopez@example.com', '2025-02-03')\n",
            "(14, 'Nina', 'Wilson', '2002-07-19', 'nina.wilson@example.com', '2025-02-03')\n",
            "(15, 'Oscar', 'Anderson', '2000-03-11', 'oscar.anderson@example.com', '2025-02-03')\n",
            "(17, 'Quinn', 'Taylor', '2001-05-06', 'quinn.taylor@example.com', '2025-02-03')\n",
            "(19, 'Steve', 'Jackson', '2000-12-12', 'steve.jackson@example.com', '2025-02-03')\n",
            "(20, 'Tina', 'Martin', '2001-02-28', 'tina.martin@example.com', '2025-02-03')\n",
            "\n",
            "Students sorted by last name:\n",
            "(14, 'Nina', 'Wilson', '2002-07-19', 'nina.wilson@example.com', '2025-02-03')\n",
            "(3, 'Charlie', 'Williams', '2001-07-08', 'charlie.williams@example.com', '2025-02-03')\n",
            "(16, 'Paula', 'Thomas', '1998-11-25', 'paula.thomas@example.com', '2025-02-03')\n",
            "(17, 'Quinn', 'Taylor', '2001-05-06', 'quinn.taylor@example.com', '2025-02-03')\n",
            "(1, 'Alice', 'Smith', '2000-01-15', 'alice.smith@example.com', '2025-02-03')\n",
            "(9, 'Ian', 'Rodriguez', '2000-06-23', 'ian.rodriguez@example.com', '2025-02-03')\n",
            "(18, 'Rachel', 'Moore', '1999-09-09', 'rachel.moore@example.com', '2025-02-03')\n",
            "(7, 'George', 'Miller', '1999-12-05', 'george.miller@example.com', '2025-02-03')\n",
            "(10, 'Julia', 'Martinez', '1998-08-14', 'julia.martinez@example.com', '2025-02-03')\n",
            "(20, 'Tina', 'Martin', '2001-02-28', 'tina.martin@example.com', '2025-02-03')\n",
            "(12, 'Laura', 'Lopez', '2001-01-27', 'laura.lopez@example.com', '2025-02-03')\n",
            "(5, 'Ethan', 'Jones', '1998-05-12', 'ethan.jones@example.com', '2025-02-03')\n",
            "(2, 'Bob', 'Johnson', '1999-03-22', 'bob.johnson@example.com', '2025-02-03')\n",
            "(19, 'Steve', 'Jackson', '2000-12-12', 'steve.jackson@example.com', '2025-02-03')\n",
            "(11, 'Kevin', 'Hernandez', '2000-04-10', 'kevin.hernandez@example.com', '2025-02-03')\n",
            "(13, 'Michael', 'Gonzalez', '1999-10-03', 'michael.gonzalez@example.com', '2025-02-03')\n",
            "(6, 'Fiona', 'Garcia', '2002-02-20', 'fiona.garcia@example.com', '2025-02-03')\n",
            "(8, 'Hannah', 'Davis', '2001-09-17', 'hannah.davis@example.com', '2025-02-03')\n",
            "(4, 'Diana', 'Brown', '2000-11-30', 'diana.brown@example.com', '2025-02-03')\n",
            "(15, 'Oscar', 'Anderson', '2000-03-11', 'oscar.anderson@example.com', '2025-02-03')\n",
            "n\\Students and Courses:\n",
            "(1, 'Alice', 'Smith', 'Mathematics')\n",
            "(2, 'Bob', 'Johnson', 'Mathematics')\n",
            "(3, 'Charlie', 'Williams', 'Mathematics')\n",
            "(4, 'Diana', 'Brown', 'Mathematics')\n",
            "(5, 'Ethan', 'Jones', 'Mathematics')\n",
            "(6, 'Fiona', 'Garcia', 'Physics')\n",
            "(7, 'George', 'Miller', 'Physics')\n",
            "(8, 'Hannah', 'Davis', 'Physics')\n",
            "(9, 'Ian', 'Rodriguez', 'Physics')\n",
            "(10, 'Julia', 'Martinez', 'Literature')\n",
            "(11, 'Kevin', 'Hernandez', 'Literature')\n",
            "n\\Students and Courses:\n",
            "(1, 'Alice', 'Smith', 'Mathematics')\n",
            "(2, 'Bob', 'Johnson', 'Mathematics')\n",
            "(3, 'Charlie', 'Williams', 'Mathematics')\n",
            "(4, 'Diana', 'Brown', 'Mathematics')\n",
            "(5, 'Ethan', 'Jones', 'Mathematics')\n",
            "(6, 'Fiona', 'Garcia', 'Physics')\n",
            "(7, 'George', 'Miller', 'Physics')\n",
            "(8, 'Hannah', 'Davis', 'Physics')\n",
            "(9, 'Ian', 'Rodriguez', 'Physics')\n",
            "(10, 'Julia', 'Martinez', 'Literature')\n",
            "(11, 'Kevin', 'Hernandez', 'Literature')\n",
            "(12, 'Laura', 'Lopez', None)\n",
            "(13, 'Michael', 'Gonzalez', None)\n",
            "(14, 'Nina', 'Wilson', None)\n",
            "(15, 'Oscar', 'Anderson', None)\n",
            "(16, 'Paula', 'Thomas', None)\n",
            "(17, 'Quinn', 'Taylor', None)\n",
            "(18, 'Rachel', 'Moore', None)\n",
            "(19, 'Steve', 'Jackson', None)\n",
            "(20, 'Tina', 'Martin', None)\n",
            "\n",
            "Courses with no enrollments:\n",
            "(3, 'Chemistry', 4, 'Dr. Curie')\n",
            "(5, 'Art', 2, 'Prof. Da Vinci')\n",
            "\n",
            "Courses with enrollment numbers:\n",
            "('Literature', 2)\n",
            "('Mathematics', 5)\n",
            "('Physics', 4)\n"
          ]
        }
      ],
      "source": [
        "# Query 1: List all students who enrolled in 2023\n",
        "print('Students enrolled in 2023:')\n",
        "for row in cursor.execute('''\n",
        "    SELECT * FROM Students\n",
        "    INNER JOIN Enrollments ON Students.StudentID = Enrollments.StudentID\n",
        "    WHERE Enrollments.EnrollmentDate LIKE '2023%'\n",
        "'''):\n",
        "    print(row)\n",
        "\n",
        "# Query 2: List all students whose email contains gmail.com\n",
        "print('\\nStudents with gmail.com emails:')\n",
        "for row in cursor.execute(\"SELECT * FROM Students WHERE LOWER(Email) LIKE '%gmail.com%'\"):\n",
        "    print(row)\n",
        "\n",
        "# Query 3: List all students\n",
        "print('\\nAll Students:')\n",
        "for row in cursor.execute('SELECT * FROM Students'):\n",
        "    print(row)\n",
        "\n",
        "# Query 4: List students born between 2000 and 2005\n",
        "print('\\nStudents born between 2000 and 2005:')\n",
        "for row in cursor.execute(\"SELECT * FROM Students WHERE strftime('%Y', DateOfBirth) BETWEEN '2000' AND '2005'\"):\n",
        "    print(row)\n",
        "\n",
        "# Query 5: List students sorted by last name in descending order\n",
        "print('\\nStudents sorted by last name:')\n",
        "for row in cursor.execute('SELECT * FROM Students ORDER BY LastName DESC'):\n",
        "    print(row)\n",
        "\n",
        "# Query 6: List students and the courses they are enrolled in\n",
        "print('n\\Students and Courses:')\n",
        "cursor.execute('''\n",
        "    SELECT Students.StudentID, Students.FirstName, Students.LastName, Courses.CourseName FROM Students\n",
        "    INNER JOIN Enrollments ON Students.StudentID = Enrollments.StudentID\n",
        "    INNER JOIN Courses ON Enrollments.CourseID = Courses.CourseID\n",
        "''')\n",
        "for row in cursor.fetchall():\n",
        "    print(row)\n",
        "\n",
        "# Query 7: List students and courses (students without courses are included)\n",
        "print('n\\Students and Courses:')\n",
        "cursor.execute('''\n",
        "    SELECT Students.StudentID, Students.FirstName, Students.LastName, Courses.CourseName FROM Students\n",
        "    LEFT JOIN Enrollments ON Students.StudentID = Enrollments.StudentID\n",
        "    LEFT JOIN Courses ON Enrollments.CourseID = Courses.CourseID\n",
        "''')\n",
        "for row in cursor.fetchall():\n",
        "    print(row)\n",
        "\n",
        "# Query 8: List courses with no enrollments\n",
        "print('\\nCourses with no enrollments:')\n",
        "cursor.execute('''\n",
        "    SELECT * FROM Courses\n",
        "    WHERE CourseID NOT IN (SELECT CourseID FROM Enrollments)\n",
        "''')\n",
        "for row in cursor.fetchall():\n",
        "    print(row)\n",
        "\n",
        "# Query 9: List courses and number of students enrolled\n",
        "print('\\nCourses with enrollment numbers:')\n",
        "cursor.execute('''\n",
        "    SELECT Courses.CourseName, COUNT(Enrollments.StudentID) AS TotalStudents FROM Enrollments\n",
        "    INNER JOIN Courses ON Enrollments.CourseID = Courses.CourseID\n",
        "    GROUP BY Courses.CourseName\n",
        "''')\n",
        "for row in cursor.fetchall():\n",
        "    print(row)\n"
      ]
    },
    {
      "cell_type": "markdown",
      "metadata": {
        "id": "conclusion"
      },
      "source": [
        "## Conclusion\n",
        "\n",
        "In this notebook, we created a school database using SQLite, inserted sample data, and executed queries to explore the information. This example is a great starting point for learning SQL and SQLite in an interactive environment like Google Colab."
      ]
    },
    {
      "cell_type": "code",
      "execution_count": 8,
      "metadata": {
        "colab": {
          "base_uri": "https://localhost:8080/"
        },
        "id": "close-connection",
        "outputId": "18c3ba16-75e7-464c-a70e-709e51469e4d"
      },
      "outputs": [
        {
          "output_type": "stream",
          "name": "stdout",
          "text": [
            "Database connection closed.\n"
          ]
        }
      ],
      "source": [
        "# Close the database connection\n",
        "conn.close()\n",
        "print('Database connection closed.')"
      ]
    }
  ],
  "metadata": {
    "colab": {
      "provenance": [],
      "include_colab_link": true
    },
    "kernelspec": {
      "display_name": "Python 3",
      "language": "python",
      "name": "python3"
    },
    "language_info": {
      "name": "python",
      "version": "3.x"
    }
  },
  "nbformat": 4,
  "nbformat_minor": 0
}