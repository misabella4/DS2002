{
  "nbformat": 4,
  "nbformat_minor": 0,
  "metadata": {
    "colab": {
      "provenance": [],
      "authorship_tag": "ABX9TyP38bQxdRkVMwoMvTfshV80",
      "include_colab_link": true
    },
    "kernelspec": {
      "name": "python3",
      "display_name": "Python 3"
    },
    "language_info": {
      "name": "python"
    }
  },
  "cells": [
    {
      "cell_type": "markdown",
      "metadata": {
        "id": "view-in-github",
        "colab_type": "text"
      },
      "source": [
        "<a href=\"https://colab.research.google.com/github/misabella4/DS2002/blob/main/Finance_API_HW.ipynb\" target=\"_parent\"><img src=\"https://colab.research.google.com/assets/colab-badge.svg\" alt=\"Open In Colab\"/></a>"
      ]
    },
    {
      "cell_type": "markdown",
      "source": [
        "Task 1"
      ],
      "metadata": {
        "id": "I89XdXKHDPlg"
      }
    },
    {
      "cell_type": "code",
      "execution_count": null,
      "metadata": {
        "colab": {
          "base_uri": "https://localhost:8080/",
          "height": 263
        },
        "id": "yHg1VyZLy3u3",
        "outputId": "b69eb40f-002c-41dc-ef65-45efaaa6233b",
        "collapsed": true
      },
      "outputs": [
        {
          "output_type": "stream",
          "name": "stdout",
          "text": [
            "Input 2 or more stock symbols (separated by commas)\n",
            "AAPL,GOOGL\n",
            "{'message': 'Limit Exceeded', 'hint': 'Upgrade for bigger plan at https://financeapi.net/pricing'}\n"
          ]
        },
        {
          "output_type": "error",
          "ename": "KeyError",
          "evalue": "'quoteResponse'",
          "traceback": [
            "\u001b[0;31m---------------------------------------------------------------------------\u001b[0m",
            "\u001b[0;31mKeyError\u001b[0m                                  Traceback (most recent call last)",
            "\u001b[0;32m<ipython-input-77-12c7f7a48c5b>\u001b[0m in \u001b[0;36m<cell line: 0>\u001b[0;34m()\u001b[0m\n\u001b[1;32m     15\u001b[0m \u001b[0mresponse\u001b[0m \u001b[0;34m=\u001b[0m \u001b[0mrequests\u001b[0m\u001b[0;34m.\u001b[0m\u001b[0mget\u001b[0m\u001b[0;34m(\u001b[0m\u001b[0murl\u001b[0m\u001b[0;34m,\u001b[0m \u001b[0mheaders\u001b[0m\u001b[0;34m=\u001b[0m\u001b[0mheaders\u001b[0m\u001b[0;34m,\u001b[0m \u001b[0mparams\u001b[0m\u001b[0;34m=\u001b[0m\u001b[0mqueryString\u001b[0m\u001b[0;34m)\u001b[0m\u001b[0;34m\u001b[0m\u001b[0;34m\u001b[0m\u001b[0m\n\u001b[1;32m     16\u001b[0m \u001b[0;34m\u001b[0m\u001b[0m\n\u001b[0;32m---> 17\u001b[0;31m \u001b[0mdf\u001b[0m \u001b[0;34m=\u001b[0m \u001b[0mpd\u001b[0m\u001b[0;34m.\u001b[0m\u001b[0mDataFrame\u001b[0m\u001b[0;34m(\u001b[0m\u001b[0mresponse\u001b[0m\u001b[0;34m.\u001b[0m\u001b[0mjson\u001b[0m\u001b[0;34m(\u001b[0m\u001b[0;34m)\u001b[0m\u001b[0;34m[\u001b[0m\u001b[0;34m'quoteResponse'\u001b[0m\u001b[0;34m]\u001b[0m\u001b[0;34m[\u001b[0m\u001b[0;34m'result'\u001b[0m\u001b[0;34m]\u001b[0m\u001b[0;34m)\u001b[0m\u001b[0;34m\u001b[0m\u001b[0;34m\u001b[0m\u001b[0m\n\u001b[0m\u001b[1;32m     18\u001b[0m \u001b[0mdf\u001b[0m\u001b[0;34m[\u001b[0m\u001b[0;34m'regularMarketPrice'\u001b[0m\u001b[0;34m]\u001b[0m \u001b[0;34m=\u001b[0m \u001b[0mdf\u001b[0m\u001b[0;34m[\u001b[0m\u001b[0;34m'regularMarketPrice'\u001b[0m\u001b[0;34m]\u001b[0m\u001b[0;34m.\u001b[0m\u001b[0mapply\u001b[0m\u001b[0;34m(\u001b[0m\u001b[0;32mlambda\u001b[0m \u001b[0mx\u001b[0m\u001b[0;34m:\u001b[0m \u001b[0;34mf\"${x:,.2f}\"\u001b[0m \u001b[0;32mif\u001b[0m \u001b[0mpd\u001b[0m\u001b[0;34m.\u001b[0m\u001b[0mnotna\u001b[0m\u001b[0;34m(\u001b[0m\u001b[0mx\u001b[0m\u001b[0;34m)\u001b[0m \u001b[0;32melse\u001b[0m \u001b[0;34m\"N/A\"\u001b[0m\u001b[0;34m)\u001b[0m\u001b[0;34m\u001b[0m\u001b[0;34m\u001b[0m\u001b[0m\n\u001b[1;32m     19\u001b[0m \u001b[0;34m\u001b[0m\u001b[0m\n",
            "\u001b[0;31mKeyError\u001b[0m: 'quoteResponse'"
          ]
        }
      ],
      "source": [
        "import json\n",
        "import pandas as pd\n",
        "import requests\n",
        "\n",
        "apikey = \"\" # commented out to submit\n",
        "\n",
        "# Ask the user for stocks\n",
        "print(\"Input 2 or more stock symbols (separated by commas)\")\n",
        "stocks = input()\n",
        "\n",
        "# Access API\n",
        "url = \"https://yfapi.net/v6/finance/quote\"\n",
        "queryString = {\"symbols\" : stocks}\n",
        "headers = {'x-api-key': apikey}\n",
        "response = requests.get(url, headers=headers, params=queryString)\n",
        "\n",
        "# Convert to DF and get the info I need\n",
        "df = pd.DataFrame(response.json()['quoteResponse']['result'])\n",
        "df['regularMarketPrice'] = df['regularMarketPrice'].apply(lambda x: f\"${x:,.2f}\" if pd.notna(x) else \"N/A\")\n",
        "for _, row in df.iterrows(): # Used chat to figure out how to print output more clearly\n",
        "    print(f\"Stock Ticker: {row['symbol']}, Company: {row['longName']}, Current Market Price: {row['regularMarketPrice']}\")"
      ]
    },
    {
      "cell_type": "markdown",
      "source": [
        "Task 2.1"
      ],
      "metadata": {
        "id": "VwwVZuE87LQP"
      }
    },
    {
      "cell_type": "code",
      "source": [
        "import json\n",
        "import pandas as pd\n",
        "import requests\n",
        "\n",
        "apikey = \"\" # commented out to submit\n",
        "\n",
        "# User selects a module and stock symbol\n",
        "print(\"Choose a symbol:\\n\")\n",
        "symbol = input()\n",
        "print(\"Choose a module:\\n\")\n",
        "user_module = input()\n",
        "print()\n",
        "querystring = {\"modules\": user_module}\n",
        "\n",
        "url = \"https://yfapi.net/v11/finance/quoteSummary/\"+symbol\n",
        "headers = {'x-api-key': apikey}\n",
        "\n",
        "# Get the entire module selected by the user and convert it to a data frame\n",
        "response = requests.get(url, headers=headers, params=querystring)\n",
        "print(\"User's module:\\n\")\n",
        "print(json.dumps(response.json(), indent=4)) # Show user the module they picked\n",
        "\n",
        "# Use summaryDetail and financialData modules to get the three variables I need\n",
        "new_querystring = {\"modules\": \"summaryDetail,financialData\"}\n",
        "response = requests.get(url, headers=headers, params=new_querystring)\n",
        "data = response.json()['quoteSummary']['result'][0]\n",
        "\n",
        "print() # Show the 3 variables\n",
        "print(f\"52 Week High: {data['summaryDetail']['fiftyTwoWeekHigh']['raw']}\")\n",
        "print(f\"52 Week Low: {data['summaryDetail']['fiftyTwoWeekLow']['raw']}\")\n",
        "print(f\"Return on Assets (ROA): {data['financialData']['returnOnAssets']['raw']}\")"
      ],
      "metadata": {
        "colab": {
          "base_uri": "https://localhost:8080/",
          "height": 436
        },
        "collapsed": true,
        "id": "3iYNkhSI7OGO",
        "outputId": "2b4012c0-fb9f-4599-dee8-4d119394acb5"
      },
      "execution_count": null,
      "outputs": [
        {
          "output_type": "stream",
          "name": "stdout",
          "text": [
            "Choose a symbol:\n",
            "\n",
            "AAPL\n",
            "Choose a module:\n",
            "\n",
            "price\n",
            "\n",
            "User's module:\n",
            "\n",
            "{\n",
            "    \"message\": \"Limit Exceeded\",\n",
            "    \"hint\": \"Upgrade for bigger plan at https://financeapi.net/pricing\"\n",
            "}\n"
          ]
        },
        {
          "output_type": "error",
          "ename": "KeyError",
          "evalue": "'quoteSummary'",
          "traceback": [
            "\u001b[0;31m---------------------------------------------------------------------------\u001b[0m",
            "\u001b[0;31mKeyError\u001b[0m                                  Traceback (most recent call last)",
            "\u001b[0;32m<ipython-input-75-56c3d54226d7>\u001b[0m in \u001b[0;36m<cell line: 0>\u001b[0;34m()\u001b[0m\n\u001b[1;32m     24\u001b[0m \u001b[0mnew_querystring\u001b[0m \u001b[0;34m=\u001b[0m \u001b[0;34m{\u001b[0m\u001b[0;34m\"modules\"\u001b[0m\u001b[0;34m:\u001b[0m \u001b[0;34m\"summaryDetail,financialData\"\u001b[0m\u001b[0;34m}\u001b[0m\u001b[0;34m\u001b[0m\u001b[0;34m\u001b[0m\u001b[0m\n\u001b[1;32m     25\u001b[0m \u001b[0mresponse\u001b[0m \u001b[0;34m=\u001b[0m \u001b[0mrequests\u001b[0m\u001b[0;34m.\u001b[0m\u001b[0mget\u001b[0m\u001b[0;34m(\u001b[0m\u001b[0murl\u001b[0m\u001b[0;34m,\u001b[0m \u001b[0mheaders\u001b[0m\u001b[0;34m=\u001b[0m\u001b[0mheaders\u001b[0m\u001b[0;34m,\u001b[0m \u001b[0mparams\u001b[0m\u001b[0;34m=\u001b[0m\u001b[0mnew_querystring\u001b[0m\u001b[0;34m)\u001b[0m\u001b[0;34m\u001b[0m\u001b[0;34m\u001b[0m\u001b[0m\n\u001b[0;32m---> 26\u001b[0;31m \u001b[0mdata\u001b[0m \u001b[0;34m=\u001b[0m \u001b[0mresponse\u001b[0m\u001b[0;34m.\u001b[0m\u001b[0mjson\u001b[0m\u001b[0;34m(\u001b[0m\u001b[0;34m)\u001b[0m\u001b[0;34m[\u001b[0m\u001b[0;34m'quoteSummary'\u001b[0m\u001b[0;34m]\u001b[0m\u001b[0;34m[\u001b[0m\u001b[0;34m'result'\u001b[0m\u001b[0;34m]\u001b[0m\u001b[0;34m[\u001b[0m\u001b[0;36m0\u001b[0m\u001b[0;34m]\u001b[0m  \u001b[0;31m# Access the first (and only) item\u001b[0m\u001b[0;34m\u001b[0m\u001b[0;34m\u001b[0m\u001b[0m\n\u001b[0m\u001b[1;32m     27\u001b[0m \u001b[0;34m\u001b[0m\u001b[0m\n\u001b[1;32m     28\u001b[0m \u001b[0mprint\u001b[0m\u001b[0;34m(\u001b[0m\u001b[0;34m)\u001b[0m\u001b[0;34m\u001b[0m\u001b[0;34m\u001b[0m\u001b[0m\n",
            "\u001b[0;31mKeyError\u001b[0m: 'quoteSummary'"
          ]
        }
      ]
    },
    {
      "cell_type": "markdown",
      "source": [
        "Task 2.2"
      ],
      "metadata": {
        "id": "fZSD0-R0DDhE"
      }
    },
    {
      "cell_type": "code",
      "source": [
        "import json\n",
        "import pandas as pd\n",
        "import requests\n",
        "\n",
        "apikey = \"\" # commented out to submit\n",
        "\n",
        "print(\"Input a trending stock symbol\") # Get trending stock from user\n",
        "symbol = input()\n",
        "\n",
        "# API call for basic info\n",
        "url = \"https://yfapi.net/v6/finance/quote\"\n",
        "queryString = {\"symbols\" : symbol}\n",
        "headers = {'x-api-key': apikey}\n",
        "response = requests.get(url, headers=headers, params=queryString)\n",
        "\n",
        "# Save info to variables\n",
        "df = pd.DataFrame(response.json()['quoteResponse']['result'])\n",
        "name = df['longName']\n",
        "price = df['regularMarketPrice'].apply(lambda x: f\"${x:,.2f}\" if pd.notna(x) else \"N/A\")\n",
        "\n",
        "# API call for 52 week info\n",
        "url = \"https://yfapi.net/v11/finance/quoteSummary/\"+symbol\n",
        "new_querystring = {\"modules\": \"summaryDetail\"}\n",
        "response = requests.get(url, headers=headers, params=new_querystring)\n",
        "data = response.json()['quoteSummary']['result'][0]\n",
        "\n",
        "# Save info to variables\n",
        "fifty_two_week_high = data['summaryDetail']['fiftyTwoWeekHigh']['raw']\n",
        "fifty_two_week_low = data['summaryDetail']['fiftyTwoWeekLow']['raw']\n",
        "\n",
        "print() # Show the variables\n",
        "print(f\"Symbol: \" + symbol)\n",
        "print(f\"Name: \" + name)\n",
        "print(f\"Current Price: \" + price)\n",
        "print(f\"Fifty Two Week High: \" + fifty_two_week_high)\n",
        "print(f\"Fifty Two Week Low: \" + fifty_two_week_low)"
      ],
      "metadata": {
        "colab": {
          "base_uri": "https://localhost:8080/",
          "height": 245
        },
        "id": "kXX8pvJ6DThR",
        "outputId": "4a975310-b379-48d0-bddc-fb4df0b360b9"
      },
      "execution_count": 79,
      "outputs": [
        {
          "name": "stdout",
          "output_type": "stream",
          "text": [
            "Input a trending stock symbol\n",
            "AAPL\n"
          ]
        },
        {
          "output_type": "error",
          "ename": "KeyError",
          "evalue": "'quoteResponse'",
          "traceback": [
            "\u001b[0;31m---------------------------------------------------------------------------\u001b[0m",
            "\u001b[0;31mKeyError\u001b[0m                                  Traceback (most recent call last)",
            "\u001b[0;32m<ipython-input-79-692fbf9951cc>\u001b[0m in \u001b[0;36m<cell line: 0>\u001b[0;34m()\u001b[0m\n\u001b[1;32m     14\u001b[0m \u001b[0mresponse\u001b[0m \u001b[0;34m=\u001b[0m \u001b[0mrequests\u001b[0m\u001b[0;34m.\u001b[0m\u001b[0mget\u001b[0m\u001b[0;34m(\u001b[0m\u001b[0murl\u001b[0m\u001b[0;34m,\u001b[0m \u001b[0mheaders\u001b[0m\u001b[0;34m=\u001b[0m\u001b[0mheaders\u001b[0m\u001b[0;34m,\u001b[0m \u001b[0mparams\u001b[0m\u001b[0;34m=\u001b[0m\u001b[0mqueryString\u001b[0m\u001b[0;34m)\u001b[0m\u001b[0;34m\u001b[0m\u001b[0;34m\u001b[0m\u001b[0m\n\u001b[1;32m     15\u001b[0m \u001b[0;34m\u001b[0m\u001b[0m\n\u001b[0;32m---> 16\u001b[0;31m \u001b[0mdf\u001b[0m \u001b[0;34m=\u001b[0m \u001b[0mpd\u001b[0m\u001b[0;34m.\u001b[0m\u001b[0mDataFrame\u001b[0m\u001b[0;34m(\u001b[0m\u001b[0mresponse\u001b[0m\u001b[0;34m.\u001b[0m\u001b[0mjson\u001b[0m\u001b[0;34m(\u001b[0m\u001b[0;34m)\u001b[0m\u001b[0;34m[\u001b[0m\u001b[0;34m'quoteResponse'\u001b[0m\u001b[0;34m]\u001b[0m\u001b[0;34m[\u001b[0m\u001b[0;34m'result'\u001b[0m\u001b[0;34m]\u001b[0m\u001b[0;34m)\u001b[0m\u001b[0;34m\u001b[0m\u001b[0;34m\u001b[0m\u001b[0m\n\u001b[0m\u001b[1;32m     17\u001b[0m \u001b[0mname\u001b[0m \u001b[0;34m=\u001b[0m \u001b[0mdf\u001b[0m\u001b[0;34m[\u001b[0m\u001b[0;34m'longName'\u001b[0m\u001b[0;34m]\u001b[0m\u001b[0;34m\u001b[0m\u001b[0;34m\u001b[0m\u001b[0m\n\u001b[1;32m     18\u001b[0m \u001b[0mprice\u001b[0m \u001b[0;34m=\u001b[0m \u001b[0mdf\u001b[0m\u001b[0;34m[\u001b[0m\u001b[0;34m'regularMarketPrice'\u001b[0m\u001b[0;34m]\u001b[0m\u001b[0;34m.\u001b[0m\u001b[0mapply\u001b[0m\u001b[0;34m(\u001b[0m\u001b[0;32mlambda\u001b[0m \u001b[0mx\u001b[0m\u001b[0;34m:\u001b[0m \u001b[0;34mf\"${x:,.2f}\"\u001b[0m \u001b[0;32mif\u001b[0m \u001b[0mpd\u001b[0m\u001b[0;34m.\u001b[0m\u001b[0mnotna\u001b[0m\u001b[0;34m(\u001b[0m\u001b[0mx\u001b[0m\u001b[0;34m)\u001b[0m \u001b[0;32melse\u001b[0m \u001b[0;34m\"N/A\"\u001b[0m\u001b[0;34m)\u001b[0m\u001b[0;34m\u001b[0m\u001b[0;34m\u001b[0m\u001b[0m\n",
            "\u001b[0;31mKeyError\u001b[0m: 'quoteResponse'"
          ]
        }
      ]
    }
  ]
}