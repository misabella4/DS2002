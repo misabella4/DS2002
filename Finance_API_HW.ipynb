{
  "cells": [
    {
      "cell_type": "markdown",
      "metadata": {
        "id": "view-in-github",
        "colab_type": "text"
      },
      "source": [
        "<a href=\"https://colab.research.google.com/github/misabella4/DS2002/blob/main/Finance_API_HW.ipynb\" target=\"_parent\"><img src=\"https://colab.research.google.com/assets/colab-badge.svg\" alt=\"Open In Colab\"/></a>"
      ]
    },
    {
      "cell_type": "markdown",
      "metadata": {
        "id": "I89XdXKHDPlg"
      },
      "source": [
        "Task 1"
      ]
    },
    {
      "cell_type": "code",
      "execution_count": 2,
      "metadata": {
        "colab": {
          "base_uri": "https://localhost:8080/"
        },
        "collapsed": true,
        "id": "yHg1VyZLy3u3",
        "outputId": "e3ab6780-3b4c-4b63-d7ff-a6ecb52cd6ad"
      },
      "outputs": [
        {
          "output_type": "stream",
          "name": "stdout",
          "text": [
            "Input 2 or more stock symbols (separated by commas)\n",
            "AAPL,GOOGL\n",
            "Stock Ticker: AAPL, Company: Apple Inc., Current Market Price: $237.30\n",
            "Stock Ticker: GOOGL, Company: Alphabet Inc., Current Market Price: $168.50\n"
          ]
        }
      ],
      "source": [
        "import json\n",
        "import pandas as pd\n",
        "import requests\n",
        "\n",
        "apikey = \"\" # commented out to submit\n",
        "\n",
        "# Ask the user for stocks\n",
        "print(\"Input 2 or more stock symbols (separated by commas)\")\n",
        "stocks = input()\n",
        "\n",
        "# Access API\n",
        "url = \"https://yfapi.net/v6/finance/quote\"\n",
        "queryString = {\"symbols\" : stocks}\n",
        "headers = {'x-api-key': apikey}\n",
        "response = requests.get(url, headers=headers, params=queryString)\n",
        "\n",
        "# Convert to DF and get the info I need\n",
        "df = pd.DataFrame(response.json()['quoteResponse']['result'])\n",
        "df['regularMarketPrice'] = df['regularMarketPrice'].apply(lambda x: f\"${x:,.2f}\" if pd.notna(x) else \"N/A\")\n",
        "for _, row in df.iterrows(): # Used chat to figure out how to print output more clearly\n",
        "    print(f\"Stock Ticker: {row['symbol']}, Company: {row['longName']}, Current Market Price: {row['regularMarketPrice']}\")"
      ]
    },
    {
      "cell_type": "markdown",
      "metadata": {
        "id": "VwwVZuE87LQP"
      },
      "source": [
        "Task 2.1"
      ]
    },
    {
      "cell_type": "code",
      "execution_count": 4,
      "metadata": {
        "colab": {
          "base_uri": "https://localhost:8080/"
        },
        "collapsed": true,
        "id": "3iYNkhSI7OGO",
        "outputId": "8771f617-ac91-4733-c1b6-f36130a4849d"
      },
      "outputs": [
        {
          "output_type": "stream",
          "name": "stdout",
          "text": [
            "Choose a symbol:\n",
            "\n",
            "NVDA\n",
            "Choose a module:\n",
            "\n",
            "financialData\n",
            "\n",
            "User's module:\n",
            "\n",
            "{\n",
            "    \"quoteSummary\": {\n",
            "        \"result\": [\n",
            "            {\n",
            "                \"financialData\": {\n",
            "                    \"maxAge\": 86400,\n",
            "                    \"currentPrice\": {\n",
            "                        \"raw\": 120.15,\n",
            "                        \"fmt\": \"120.15\"\n",
            "                    },\n",
            "                    \"targetHighPrice\": {\n",
            "                        \"raw\": 220.0,\n",
            "                        \"fmt\": \"220.00\"\n",
            "                    },\n",
            "                    \"targetLowPrice\": {\n",
            "                        \"raw\": 130.0,\n",
            "                        \"fmt\": \"130.00\"\n",
            "                    },\n",
            "                    \"targetMeanPrice\": {\n",
            "                        \"raw\": 174.8093,\n",
            "                        \"fmt\": \"174.81\"\n",
            "                    },\n",
            "                    \"targetMedianPrice\": {\n",
            "                        \"raw\": 175.0,\n",
            "                        \"fmt\": \"175.00\"\n",
            "                    },\n",
            "                    \"recommendationMean\": {\n",
            "                        \"raw\": 1.33333,\n",
            "                        \"fmt\": \"1.33\"\n",
            "                    },\n",
            "                    \"recommendationKey\": \"strong_buy\",\n",
            "                    \"numberOfAnalystOpinions\": {\n",
            "                        \"raw\": 56,\n",
            "                        \"fmt\": \"56\",\n",
            "                        \"longFmt\": \"56\"\n",
            "                    },\n",
            "                    \"totalCash\": {\n",
            "                        \"raw\": 43209998336,\n",
            "                        \"fmt\": \"43.21B\",\n",
            "                        \"longFmt\": \"43,209,998,336\"\n",
            "                    },\n",
            "                    \"totalCashPerShare\": {\n",
            "                        \"raw\": 1.765,\n",
            "                        \"fmt\": \"1.76\"\n",
            "                    },\n",
            "                    \"ebitda\": {\n",
            "                        \"raw\": 83316998144,\n",
            "                        \"fmt\": \"83.32B\",\n",
            "                        \"longFmt\": \"83,316,998,144\"\n",
            "                    },\n",
            "                    \"totalDebt\": {\n",
            "                        \"raw\": 9982000128,\n",
            "                        \"fmt\": \"9.98B\",\n",
            "                        \"longFmt\": \"9,982,000,128\"\n",
            "                    },\n",
            "                    \"quickRatio\": {\n",
            "                        \"raw\": 3.672,\n",
            "                        \"fmt\": \"3.67\"\n",
            "                    },\n",
            "                    \"currentRatio\": {\n",
            "                        \"raw\": 4.44,\n",
            "                        \"fmt\": \"4.44\"\n",
            "                    },\n",
            "                    \"totalRevenue\": {\n",
            "                        \"raw\": 130497003520,\n",
            "                        \"fmt\": \"130.5B\",\n",
            "                        \"longFmt\": \"130,497,003,520\"\n",
            "                    },\n",
            "                    \"debtToEquity\": {\n",
            "                        \"raw\": 12.583,\n",
            "                        \"fmt\": \"12.58%\"\n",
            "                    },\n",
            "                    \"revenuePerShare\": {\n",
            "                        \"raw\": 5.314,\n",
            "                        \"fmt\": \"5.31\"\n",
            "                    },\n",
            "                    \"returnOnAssets\": {\n",
            "                        \"raw\": 0.57417,\n",
            "                        \"fmt\": \"57.42%\"\n",
            "                    },\n",
            "                    \"returnOnEquity\": {\n",
            "                        \"raw\": 1.1917701,\n",
            "                        \"fmt\": \"119.18%\"\n",
            "                    },\n",
            "                    \"grossProfits\": {\n",
            "                        \"raw\": 97858002944,\n",
            "                        \"fmt\": \"97.86B\",\n",
            "                        \"longFmt\": \"97,858,002,944\"\n",
            "                    },\n",
            "                    \"freeCashflow\": {\n",
            "                        \"raw\": 39720751104,\n",
            "                        \"fmt\": \"39.72B\",\n",
            "                        \"longFmt\": \"39,720,751,104\"\n",
            "                    },\n",
            "                    \"operatingCashflow\": {\n",
            "                        \"raw\": 64089001984,\n",
            "                        \"fmt\": \"64.09B\",\n",
            "                        \"longFmt\": \"64,089,001,984\"\n",
            "                    },\n",
            "                    \"earningsGrowth\": {\n",
            "                        \"raw\": 0.836,\n",
            "                        \"fmt\": \"83.60%\"\n",
            "                    },\n",
            "                    \"revenueGrowth\": {\n",
            "                        \"raw\": 0.779,\n",
            "                        \"fmt\": \"77.90%\"\n",
            "                    },\n",
            "                    \"grossMargins\": {\n",
            "                        \"raw\": 0.74988997,\n",
            "                        \"fmt\": \"74.99%\"\n",
            "                    },\n",
            "                    \"ebitdaMargins\": {\n",
            "                        \"raw\": 0.63846,\n",
            "                        \"fmt\": \"63.85%\"\n",
            "                    },\n",
            "                    \"operatingMargins\": {\n",
            "                        \"raw\": 0.61107,\n",
            "                        \"fmt\": \"61.11%\"\n",
            "                    },\n",
            "                    \"profitMargins\": {\n",
            "                        \"raw\": 0.55848,\n",
            "                        \"fmt\": \"55.85%\"\n",
            "                    },\n",
            "                    \"financialCurrency\": \"USD\"\n",
            "                }\n",
            "            }\n",
            "        ],\n",
            "        \"error\": null\n",
            "    }\n",
            "}\n",
            "\n",
            "52 Week High: 153.13\n",
            "52 Week Low: 75.606\n",
            "Return on Assets (ROA): 0.57417\n"
          ]
        }
      ],
      "source": [
        "import json\n",
        "import pandas as pd\n",
        "import requests\n",
        "\n",
        "apikey = \"\" # commented out to submit\n",
        "\n",
        "# User selects a module and stock symbol\n",
        "print(\"Choose a symbol:\\n\")\n",
        "symbol = input()\n",
        "print(\"Choose a module:\\n\")\n",
        "user_module = input()\n",
        "print()\n",
        "querystring = {\"modules\": user_module}\n",
        "\n",
        "url = \"https://yfapi.net/v11/finance/quoteSummary/\"+symbol\n",
        "headers = {'x-api-key': apikey}\n",
        "\n",
        "# Get the entire module selected by the user and convert it to a data frame\n",
        "response = requests.get(url, headers=headers, params=querystring)\n",
        "print(\"User's module:\\n\")\n",
        "print(json.dumps(response.json(), indent=4)) # Show user the module they picked\n",
        "\n",
        "# Use summaryDetail and financialData modules to get the three variables I need\n",
        "new_querystring = {\"modules\": \"summaryDetail,financialData\"}\n",
        "response = requests.get(url, headers=headers, params=new_querystring)\n",
        "data = response.json()['quoteSummary']['result'][0]\n",
        "\n",
        "print() # Show the 3 variables\n",
        "print(f\"52 Week High: {data['summaryDetail']['fiftyTwoWeekHigh']['raw']}\")\n",
        "print(f\"52 Week Low: {data['summaryDetail']['fiftyTwoWeekLow']['raw']}\")\n",
        "print(f\"Return on Assets (ROA): {data['financialData']['returnOnAssets']['raw']}\")"
      ]
    },
    {
      "cell_type": "markdown",
      "metadata": {
        "id": "fZSD0-R0DDhE"
      },
      "source": [
        "Task 2.2"
      ]
    },
    {
      "cell_type": "code",
      "execution_count": 8,
      "metadata": {
        "colab": {
          "base_uri": "https://localhost:8080/"
        },
        "id": "kXX8pvJ6DThR",
        "outputId": "d18794f5-a8e0-49ac-9738-2321a55628a3"
      },
      "outputs": [
        {
          "output_type": "stream",
          "name": "stdout",
          "text": [
            "Input a trending stock symbol\n",
            "NVDA\n",
            "\n",
            "Symbol: NVDA\n",
            "0    Current Price: $120.15\n",
            "Name: regularMarketPrice, dtype: object\n",
            "52 Week High: 153.13\n",
            "52 Week High: 75.606\n"
          ]
        }
      ],
      "source": [
        "import json\n",
        "import pandas as pd\n",
        "import requests\n",
        "\n",
        "apikey = \"\" # commented out to submit\n",
        "\n",
        "print(\"Input a trending stock symbol\") # Get trending stock from user\n",
        "symbol = input()\n",
        "\n",
        "# API call for basic info\n",
        "url = \"https://yfapi.net/v6/finance/quote\"\n",
        "queryString = {\"symbols\" : symbol}\n",
        "headers = {'x-api-key': apikey}\n",
        "response = requests.get(url, headers=headers, params=queryString)\n",
        "\n",
        "# Save info to variables\n",
        "df = pd.DataFrame(response.json()['quoteResponse']['result'])\n",
        "name = df['longName']\n",
        "df['regularMarketPrice'] = df['regularMarketPrice'].apply(lambda x: f\"${x:,.2f}\" if pd.notna(x) else \"N/A\")\n",
        "price = df['regularMarketPrice']\n",
        "\n",
        "# API call for 52 week info\n",
        "url = \"https://yfapi.net/v11/finance/quoteSummary/\"+symbol\n",
        "new_querystring = {\"modules\": \"summaryDetail\"}\n",
        "response = requests.get(url, headers=headers, params=new_querystring)\n",
        "data = response.json()['quoteSummary']['result'][0]\n",
        "\n",
        "# Save info to variables\n",
        "# fifty_two_week_high = data['summaryDetail']['fiftyTwoWeekHigh']['raw']\n",
        "# fifty_two_week_low = data['summaryDetail']['fiftyTwoWeekLow']['raw']\n",
        "\n",
        "print() # Show the variables\n",
        "print(f\"Symbol: \" + symbol)\n",
        "print(f\"Name: \" + name)\n",
        "print(f\"Current Price: \" + price)\n",
        "print(f\"52 Week High: {data['summaryDetail']['fiftyTwoWeekHigh']['raw']}\")\n",
        "print(f\"52 Week High: {data['summaryDetail']['fiftyTwoWeekLow']['raw']}\")"
      ]
    }
  ],
  "metadata": {
    "colab": {
      "provenance": [],
      "authorship_tag": "ABX9TyONxiTvi8Q8WtibjTEwcvPc",
      "include_colab_link": true
    },
    "kernelspec": {
      "display_name": "Python 3",
      "name": "python3"
    },
    "language_info": {
      "name": "python"
    }
  },
  "nbformat": 4,
  "nbformat_minor": 0
}